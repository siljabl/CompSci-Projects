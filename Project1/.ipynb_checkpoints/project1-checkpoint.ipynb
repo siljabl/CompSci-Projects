{
 "cells": [
  {
   "cell_type": "markdown",
   "id": "dd9bf65b",
   "metadata": {},
   "source": [
    "# Project 1"
   ]
  },
  {
   "cell_type": "code",
   "execution_count": 6,
   "id": "d7baf6d0",
   "metadata": {},
   "outputs": [
    {
     "name": "stdout",
     "output_type": "stream",
     "text": [
      "The autoreload extension is already loaded. To reload it, use:\n",
      "  %reload_ext autoreload\n"
     ]
    }
   ],
   "source": [
    "# Importing libraries\n",
    "%matplotlib inline\n",
    "%load_ext autoreload\n",
    "%autoreload 2 \n",
    "\n",
    "import numpy as np\n",
    "import matplotlib.pyplot as plt"
   ]
  },
  {
   "cell_type": "code",
   "execution_count": 9,
   "id": "f5bff163",
   "metadata": {},
   "outputs": [],
   "source": [
    "from FrankeFunction import FrankeFunction\n",
    "from MatrixFunctions import DesignMatrix, OLS_matrix_inversion"
   ]
  },
  {
   "cell_type": "code",
   "execution_count": 10,
   "id": "89fb15eb",
   "metadata": {},
   "outputs": [],
   "source": [
    "# Defining data set\n",
    "x_lin = np.arange(0, 1, 0.05)\n",
    "y_lin = np.arange(0, 1, 0.05)\n",
    "xMat, yMat = np.meshgrid(x_lin, y_lin)\n",
    "\n",
    "data = FrankeFunction(xMat, yMat)"
   ]
  },
  {
   "cell_type": "code",
   "execution_count": null,
   "id": "9c0d3351",
   "metadata": {},
   "outputs": [],
   "source": []
  }
 ],
 "metadata": {
  "kernelspec": {
   "display_name": "Python 3 (ipykernel)",
   "language": "python",
   "name": "python3"
  },
  "language_info": {
   "codemirror_mode": {
    "name": "ipython",
    "version": 3
   },
   "file_extension": ".py",
   "mimetype": "text/x-python",
   "name": "python",
   "nbconvert_exporter": "python",
   "pygments_lexer": "ipython3",
   "version": "3.10.6"
  }
 },
 "nbformat": 4,
 "nbformat_minor": 5
}
